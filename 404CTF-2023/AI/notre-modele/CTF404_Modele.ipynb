{
  "nbformat": 4,
  "nbformat_minor": 0,
  "metadata": {
    "colab": {
      "provenance": []
    },
    "kernelspec": {
      "name": "python3",
      "display_name": "Python 3"
    },
    "language_info": {
      "name": "python"
    }
  },
  "cells": [
    {
      "cell_type": "markdown",
      "source": [
        "Following watermarking method from https://arxiv.org/abs/1701.04082 \n",
        "Consists in encode message in layers trainable weights\n",
        "Input is used as key for decyphering."
      ],
      "metadata": {
        "id": "cMZJ0FqwJBZJ"
      }
    },
    {
      "cell_type": "markdown",
      "source": [
        "Define model structure and input given fixed seed (this code is given for the challenge)."
      ],
      "metadata": {
        "id": "gqab4jM6JS83"
      }
    },
    {
      "cell_type": "code",
      "execution_count": 1,
      "metadata": {
        "id": "v8H0nrh6hwHN"
      },
      "outputs": [],
      "source": [
        "import torch\n",
        "import torch.nn as nn\n",
        "torch.manual_seed(1234)\n",
        "\n",
        "\n",
        "class Net(nn.Module):\n",
        "    def __init__(self):\n",
        "        super(Net, self).__init__()\n",
        "        self.conv1 = nn.Conv2d(1, 6, 5)\n",
        "        self.pool = nn.MaxPool2d(2, 2)\n",
        "        self.conv2 = nn.Conv2d(6, 16, 5)\n",
        "        self.fc1 = nn.Linear(16 * 4 * 4, 120)\n",
        "        self.fc2 = nn.Linear(120, 84)\n",
        "        self.fc3 = nn.Linear(84, 10)\n",
        "\n",
        "    def forward(self, x):\n",
        "        x = nn.functional.relu(self.conv1(x))\n",
        "        x = self.pool(x)\n",
        "        x = nn.functional.relu(self.conv2(x))\n",
        "        x = self.pool(x)\n",
        "        x = x.view(-1, 16 * 4 * 4)\n",
        "        x = nn.functional.relu(self.fc1(x))\n",
        "        x = nn.functional.relu(self.fc2(x))\n",
        "        x = self.fc3(x)\n",
        "        return x\n",
        "\n",
        "\n",
        "# Prendre une clef aléatoire -> bien penser à la sauvegarder !\n",
        "X = torch.randn(144, 150)"
      ]
    },
    {
      "cell_type": "markdown",
      "source": [
        "Load pretrained model with weights (given by challenge) and format input"
      ],
      "metadata": {
        "id": "rs5RXdYwJdwR"
      }
    },
    {
      "cell_type": "code",
      "source": [
        "model = Net()\n",
        "# X = X.unsqueeze(0)\n",
        "\n",
        "model.load_state_dict(torch.load('404_model.pth'))"
      ],
      "metadata": {
        "colab": {
          "base_uri": "https://localhost:8080/"
        },
        "id": "JGEN-uIDJnZR",
        "outputId": "e732c86a-df2d-41f1-8b7d-a7d90e30b29d"
      },
      "execution_count": 2,
      "outputs": [
        {
          "output_type": "execute_result",
          "data": {
            "text/plain": [
              "<All keys matched successfully>"
            ]
          },
          "metadata": {},
          "execution_count": 2
        }
      ]
    },
    {
      "cell_type": "markdown",
      "source": [
        "Extract and flatten weights from second convolution layer (following paper).\n",
        "Second layer is chosen to match size of input $X$ when flattened."
      ],
      "metadata": {
        "id": "9ApmCKQuJnG4"
      }
    },
    {
      "cell_type": "code",
      "source": [
        "w = model.conv2.weight.detach().numpy().mean(0)\n",
        "w = w.flatten()"
      ],
      "metadata": {
        "id": "6lLkQJf1iAe2"
      },
      "execution_count": 3,
      "outputs": []
    },
    {
      "cell_type": "markdown",
      "source": [
        "1. Calculate sum of linear combinations between input and weights $B = \\sum_{i=1}^n x_i \\times w$\n",
        "2. Apply step function:\n",
        "  - 1 if $B > 0$\n",
        "  - 0 otherwise"
      ],
      "metadata": {
        "id": "Dq4Nj7jmJ8Wo"
      }
    },
    {
      "cell_type": "code",
      "source": [
        "import numpy as np\n",
        "\n",
        "bits = []\n",
        "for i in range(X.shape[0]):\n",
        "  b = np.sum(X[i].numpy() * w)\n",
        "  bits.append(str(int(b >= 0)))\n",
        "''.join(bits)"
      ],
      "metadata": {
        "id": "RX9u-q9_3oXg",
        "colab": {
          "base_uri": "https://localhost:8080/",
          "height": 35
        },
        "outputId": "86e46404-11f4-4fc6-83ab-dd0d7ec86913"
      },
      "execution_count": 4,
      "outputs": [
        {
          "output_type": "execute_result",
          "data": {
            "text/plain": [
              "'001101000011000000110100010000110101010001000110011110110101000000110100011100110101111101110100001100000111010101000011011010000011001101111101'"
            ],
            "application/vnd.google.colaboratory.intrinsic+json": {
              "type": "string"
            }
          },
          "metadata": {},
          "execution_count": 4
        }
      ]
    },
    {
      "cell_type": "markdown",
      "source": [
        "From resulting sequence, convert binary string to ASCII (https://www.rapidtables.com/convert/number/binary-to-ascii.html) to get:"
      ],
      "metadata": {
        "id": "ksf4KJ0qKwdY"
      }
    },
    {
      "cell_type": "markdown",
      "source": [
        "404CTF{P4s_t0uCh3}"
      ],
      "metadata": {
        "id": "DDJdPRZxLgfB"
      }
    }
  ]
}